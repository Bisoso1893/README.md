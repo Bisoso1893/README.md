{
 "cells": [
  {
   "cell_type": "code",
   "execution_count": null,
   "id": "bae2aa9d",
   "metadata": {},
   "outputs": [],
   "source": [
    "import pandas as pd\n",
    "import plotly.graph_objects as go\n",
    "import os"
   ]
  },
  {
   "cell_type": "code",
   "execution_count": null,
   "id": "ccfdf36d",
   "metadata": {},
   "outputs": [],
   "source": [
    "# Construir la ruta al archivo CSV desde la carpeta superior\n",
    "csv_path = os.path.join(os.path.dirname(os.getcwd()), 'vehicles_us.csv')\n",
    "\n",
    "# Leer los datos del archivo CSV\n",
    "car_data = pd.read_csv(csv_path)"
   ]
  },
  {
   "cell_type": "code",
   "execution_count": null,
   "id": "352eab12",
   "metadata": {},
   "outputs": [],
   "source": [
    "# Histograma de odómetro\n",
    "fig_hist = go.Figure(data=[go.Histogram(x=car_data['odometer'])])\n",
    "fig_hist.update_layout(title_text='Distribución del Odómetro')\n",
    "fig_hist.show(renderer='browser')  # Usa 'browser' para evitar errores de entorno\n",
    "\n"
   ]
  },
  {
   "cell_type": "code",
   "execution_count": null,
   "id": "059e2ca8",
   "metadata": {},
   "outputs": [],
   "source": [
    "# Dispersión entre odómetro y precio\n",
    "fig_scatter = go.Figure(data=[go.Scatter(\n",
    "    x=car_data['odometer'],\n",
    "    y=car_data['price'],\n",
    "    mode='markers',\n",
    "    marker=dict(color='teal', opacity=0.6)\n",
    ")])\n",
    "fig_scatter.update_layout(title_text='Relación entre Odómetro y Precio')\n",
    "fig_scatter.show(renderer='browser')"
   ]
  }
 ],
 "metadata": {
  "kernelspec": {
   "display_name": "Python 3",
   "language": "python",
   "name": "python3"
  },
  "language_info": {
   "codemirror_mode": {
    "name": "ipython",
    "version": 3
   },
   "file_extension": ".py",
   "mimetype": "text/x-python",
   "name": "python",
   "nbconvert_exporter": "python",
   "pygments_lexer": "ipython3",
   "version": "3.13.7"
  }
 },
 "nbformat": 4,
 "nbformat_minor": 5
}
